{
 "cells": [
  {
   "cell_type": "markdown",
   "id": "32973b6d",
   "metadata": {},
   "source": [
    "# Python fn to sum all no in a list"
   ]
  },
  {
   "cell_type": "code",
   "execution_count": 1,
   "id": "f0bbddec",
   "metadata": {},
   "outputs": [
    {
     "name": "stdout",
     "output_type": "stream",
     "text": [
      "Enter the lists items separated by , :- 8,2,3,0,7\n",
      " sum of number [8, 2, 3, 0, 7] = 20\n"
     ]
    }
   ],
   "source": [
    "def sum_of_numbers(list):    # using user-define function with for loop\n",
    "    total = 0                       \n",
    "    for number in list:    \n",
    "        total+= number\n",
    "    return total                          \n",
    "list = [int(item) for item in input(\"Enter the lists items separated by , :- \").split(\",\") ]\n",
    "summ = sum_of_numbers(list)\n",
    "print(f\" sum of number {list} = {summ}\")         # using f-string inside print()\n",
    "\n",
    "#Total time complexity = O(n)"
   ]
  },
  {
   "cell_type": "code",
   "execution_count": null,
   "id": "21bfb6fc",
   "metadata": {},
   "outputs": [],
   "source": []
  },
  {
   "cell_type": "code",
   "execution_count": null,
   "id": "82d900c6",
   "metadata": {},
   "outputs": [],
   "source": []
  },
  {
   "cell_type": "code",
   "execution_count": 2,
   "id": "b6ec6733",
   "metadata": {},
   "outputs": [
    {
     "name": "stdout",
     "output_type": "stream",
     "text": [
      "20\n"
     ]
    }
   ],
   "source": [
    "def sum(numbers):\n",
    "    total = 0\n",
    "    for m in numbers:\n",
    "        total += m\n",
    "    return total\n",
    "print(sum((8, 2, 3, 0, 7)))"
   ]
  },
  {
   "cell_type": "code",
   "execution_count": null,
   "id": "14310cce",
   "metadata": {},
   "outputs": [],
   "source": []
  },
  {
   "cell_type": "code",
   "execution_count": null,
   "id": "cf903e6e",
   "metadata": {},
   "outputs": [],
   "source": []
  },
  {
   "cell_type": "code",
   "execution_count": null,
   "id": "c78bc7ce",
   "metadata": {},
   "outputs": [],
   "source": []
  }
 ],
 "metadata": {
  "kernelspec": {
   "display_name": "Python 3 (ipykernel)",
   "language": "python",
   "name": "python3"
  },
  "language_info": {
   "codemirror_mode": {
    "name": "ipython",
    "version": 3
   },
   "file_extension": ".py",
   "mimetype": "text/x-python",
   "name": "python",
   "nbconvert_exporter": "python",
   "pygments_lexer": "ipython3",
   "version": "3.9.7"
  }
 },
 "nbformat": 4,
 "nbformat_minor": 5
}
